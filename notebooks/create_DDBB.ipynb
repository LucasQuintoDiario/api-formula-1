{
 "cells": [
  {
   "cell_type": "code",
   "execution_count": 5,
   "metadata": {},
   "outputs": [
    {
     "data": {
      "text/plain": [
       "True"
      ]
     },
     "execution_count": 5,
     "metadata": {},
     "output_type": "execute_result"
    }
   ],
   "source": [
    "import pymysql\n",
    "from dotenv import load_dotenv\n",
    "import pandas as pd\n",
    "import os\n",
    "load_dotenv()"
   ]
  },
  {
   "cell_type": "code",
   "execution_count": 2,
   "metadata": {},
   "outputs": [],
   "source": [
    "username = os.getenv(\"BBDD_USERNAME\")\n",
    "password = os.getenv(\"BBDD_PASSWORD\")\n",
    "host = os.getenv(\"BBDD_HOST\")\n",
    "port = 3306"
   ]
  },
  {
   "cell_type": "code",
   "execution_count": 11,
   "metadata": {},
   "outputs": [],
   "source": [
    "db = pymysql.connect(host = host,\n",
    "                     user = username,\n",
    "                     password = password,\n",
    "                     cursorclass = pymysql.cursors.DictCursor\n",
    ")\n",
    "\n",
    "cursor = db.cursor()"
   ]
  },
  {
   "cell_type": "markdown",
   "metadata": {},
   "source": [
    "### Crear BD"
   ]
  },
  {
   "cell_type": "code",
   "execution_count": null,
   "metadata": {},
   "outputs": [],
   "source": [
    "create_db = '''CREATE DATABASE formula_1'''\n",
    "cursor.execute(create_db)"
   ]
  },
  {
   "cell_type": "code",
   "execution_count": 24,
   "metadata": {},
   "outputs": [
    {
     "data": {
      "text/plain": [
       "[{'Database': 'formula_1'},\n",
       " {'Database': 'information_schema'},\n",
       " {'Database': 'mysql'},\n",
       " {'Database': 'performance_schema'},\n",
       " {'Database': 'sys'}]"
      ]
     },
     "execution_count": 24,
     "metadata": {},
     "output_type": "execute_result"
    }
   ],
   "source": [
    "cursor.execute('SHOW DATABASES')\n",
    "cursor.fetchall()"
   ]
  },
  {
   "cell_type": "markdown",
   "metadata": {},
   "source": [
    "### Usar Formula 1"
   ]
  },
  {
   "cell_type": "code",
   "execution_count": 12,
   "metadata": {},
   "outputs": [
    {
     "data": {
      "text/plain": [
       "0"
      ]
     },
     "execution_count": 12,
     "metadata": {},
     "output_type": "execute_result"
    }
   ],
   "source": [
    "cursor.connection.commit()\n",
    "use_db = ''' USE formula_1'''\n",
    "cursor.execute(use_db)"
   ]
  },
  {
   "cell_type": "markdown",
   "metadata": {},
   "source": [
    "### Crear tabla"
   ]
  },
  {
   "cell_type": "code",
   "execution_count": 13,
   "metadata": {},
   "outputs": [
    {
     "data": {
      "text/plain": [
       "0"
      ]
     },
     "execution_count": 13,
     "metadata": {},
     "output_type": "execute_result"
    }
   ],
   "source": [
    "create_table = '''\n",
    "CREATE TABLE interactions (\n",
    "    id INT NOT NULL auto_increment,\n",
    "    question TEXT,\n",
    "    response TEXT,\n",
    "    primary key (id)\n",
    ")\n",
    "'''\n",
    "cursor.execute(create_table)"
   ]
  },
  {
   "cell_type": "code",
   "execution_count": null,
   "metadata": {},
   "outputs": [],
   "source": [
    "add_columns= '''\n",
    "ALTER TABLE interactions\n",
    "ADD COLUMN session_id VARCHAR(50) NOT NULL,\n",
    "ADD COLUMN timestamp TIMESTAMP DEFAULT CURRENT_TIMESTAMP;\n",
    "'''\n"
   ]
  },
  {
   "cell_type": "code",
   "execution_count": 26,
   "metadata": {},
   "outputs": [
    {
     "data": {
      "text/plain": [
       "0"
      ]
     },
     "execution_count": 26,
     "metadata": {},
     "output_type": "execute_result"
    }
   ],
   "source": [
    "cursor.execute(add_columns)"
   ]
  },
  {
   "cell_type": "markdown",
   "metadata": {},
   "source": [
    "### Inspeccionar tabla"
   ]
  },
  {
   "cell_type": "code",
   "execution_count": 13,
   "metadata": {},
   "outputs": [],
   "source": [
    "cursor.execute('''SELECT * FROM interactions''')\n",
    "mi_tabla  =  cursor.fetchall()"
   ]
  },
  {
   "cell_type": "code",
   "execution_count": 14,
   "metadata": {},
   "outputs": [
    {
     "data": {
      "text/html": [
       "<div>\n",
       "<style scoped>\n",
       "    .dataframe tbody tr th:only-of-type {\n",
       "        vertical-align: middle;\n",
       "    }\n",
       "\n",
       "    .dataframe tbody tr th {\n",
       "        vertical-align: top;\n",
       "    }\n",
       "\n",
       "    .dataframe thead th {\n",
       "        text-align: right;\n",
       "    }\n",
       "</style>\n",
       "<table border=\"1\" class=\"dataframe\">\n",
       "  <thead>\n",
       "    <tr style=\"text-align: right;\">\n",
       "      <th></th>\n",
       "      <th>id</th>\n",
       "      <th>question</th>\n",
       "      <th>response</th>\n",
       "      <th>session_id</th>\n",
       "      <th>timestamp</th>\n",
       "    </tr>\n",
       "  </thead>\n",
       "  <tbody>\n",
       "    <tr>\n",
       "      <th>0</th>\n",
       "      <td>1</td>\n",
       "      <td>Cuantas carreras de F1 hay?</td>\n",
       "      <td>Actualmente, el calendario de la temporada de ...</td>\n",
       "      <td>401435ca-a5bf-4356-879a-a79044c877ca</td>\n",
       "      <td>2025-02-27 17:40:36</td>\n",
       "    </tr>\n",
       "    <tr>\n",
       "      <th>1</th>\n",
       "      <td>2</td>\n",
       "      <td>Que es el DRS?</td>\n",
       "      <td>El DRS (siglas en inglés de \"Drag Reduction Sy...</td>\n",
       "      <td>401435ca-a5bf-4356-879a-a79044c877ca</td>\n",
       "      <td>2025-02-27 17:40:36</td>\n",
       "    </tr>\n",
       "    <tr>\n",
       "      <th>2</th>\n",
       "      <td>3</td>\n",
       "      <td>Quien es el mejor piloto actualmente?</td>\n",
       "      <td>Actualmente, es difícil nombrar a un solo pilo...</td>\n",
       "      <td>234f88f7-07de-4acb-a252-d0f9c9f6906c</td>\n",
       "      <td>2025-02-27 17:45:54</td>\n",
       "    </tr>\n",
       "    <tr>\n",
       "      <th>3</th>\n",
       "      <td>4</td>\n",
       "      <td>Es mejor Fernando Alonso o Carlos Sainz?</td>\n",
       "      <td>Es una pregunta difícil y subjetiva, ya que am...</td>\n",
       "      <td>234f88f7-07de-4acb-a252-d0f9c9f6906c</td>\n",
       "      <td>2025-02-27 17:45:54</td>\n",
       "    </tr>\n",
       "    <tr>\n",
       "      <th>4</th>\n",
       "      <td>5</td>\n",
       "      <td>Quien es Fernando Alonso?</td>\n",
       "      <td>Fernando Alonso es un piloto de automovilismo ...</td>\n",
       "      <td>5c133a5f-fa75-407e-af6f-7b10cbf36a8f</td>\n",
       "      <td>2025-03-01 18:51:36</td>\n",
       "    </tr>\n",
       "    <tr>\n",
       "      <th>5</th>\n",
       "      <td>7</td>\n",
       "      <td>Cuantos circuitos hay esta año?</td>\n",
       "      <td>En la temporada 2023 de la Fórmula 1, hay un t...</td>\n",
       "      <td>72eac43f-efc4-4b6d-afd2-b745af69b95a</td>\n",
       "      <td>2025-03-01 19:19:46</td>\n",
       "    </tr>\n",
       "    <tr>\n",
       "      <th>6</th>\n",
       "      <td>8</td>\n",
       "      <td>Que es entrar en boxes?</td>\n",
       "      <td>Entrar en boxes es una expresión que se utiliz...</td>\n",
       "      <td>72eac43f-efc4-4b6d-afd2-b745af69b95a</td>\n",
       "      <td>2025-03-01 19:19:46</td>\n",
       "    </tr>\n",
       "    <tr>\n",
       "      <th>7</th>\n",
       "      <td>9</td>\n",
       "      <td>Cuantos tipos de neumaticos hay F1?</td>\n",
       "      <td>En la Fórmula 1, hay 3 tipos principales de ne...</td>\n",
       "      <td>bf9370ea-7f6f-4841-8628-b9fca03a667c</td>\n",
       "      <td>2025-03-02 12:26:11</td>\n",
       "    </tr>\n",
       "    <tr>\n",
       "      <th>8</th>\n",
       "      <td>11</td>\n",
       "      <td>Cuantos campeonatos ha ganado Schumacher?</td>\n",
       "      <td>Michael Schumacher, uno de los pilotos más exi...</td>\n",
       "      <td>375c18e1-6338-461c-a52e-16a1532bc29e</td>\n",
       "      <td>2025-03-02 12:34:16</td>\n",
       "    </tr>\n",
       "    <tr>\n",
       "      <th>9</th>\n",
       "      <td>12</td>\n",
       "      <td>Va a volver a ganar alguna carrera Fernando Al...</td>\n",
       "      <td>Es difícil predecir el futuro en la Fórmula 1,...</td>\n",
       "      <td>375c18e1-6338-461c-a52e-16a1532bc29e</td>\n",
       "      <td>2025-03-02 12:34:16</td>\n",
       "    </tr>\n",
       "  </tbody>\n",
       "</table>\n",
       "</div>"
      ],
      "text/plain": [
       "   id                                           question  \\\n",
       "0   1                        Cuantas carreras de F1 hay?   \n",
       "1   2                                     Que es el DRS?   \n",
       "2   3              Quien es el mejor piloto actualmente?   \n",
       "3   4           Es mejor Fernando Alonso o Carlos Sainz?   \n",
       "4   5                          Quien es Fernando Alonso?   \n",
       "5   7                    Cuantos circuitos hay esta año?   \n",
       "6   8                            Que es entrar en boxes?   \n",
       "7   9                Cuantos tipos de neumaticos hay F1?   \n",
       "8  11          Cuantos campeonatos ha ganado Schumacher?   \n",
       "9  12  Va a volver a ganar alguna carrera Fernando Al...   \n",
       "\n",
       "                                            response  \\\n",
       "0  Actualmente, el calendario de la temporada de ...   \n",
       "1  El DRS (siglas en inglés de \"Drag Reduction Sy...   \n",
       "2  Actualmente, es difícil nombrar a un solo pilo...   \n",
       "3  Es una pregunta difícil y subjetiva, ya que am...   \n",
       "4  Fernando Alonso es un piloto de automovilismo ...   \n",
       "5  En la temporada 2023 de la Fórmula 1, hay un t...   \n",
       "6  Entrar en boxes es una expresión que se utiliz...   \n",
       "7  En la Fórmula 1, hay 3 tipos principales de ne...   \n",
       "8  Michael Schumacher, uno de los pilotos más exi...   \n",
       "9  Es difícil predecir el futuro en la Fórmula 1,...   \n",
       "\n",
       "                             session_id           timestamp  \n",
       "0  401435ca-a5bf-4356-879a-a79044c877ca 2025-02-27 17:40:36  \n",
       "1  401435ca-a5bf-4356-879a-a79044c877ca 2025-02-27 17:40:36  \n",
       "2  234f88f7-07de-4acb-a252-d0f9c9f6906c 2025-02-27 17:45:54  \n",
       "3  234f88f7-07de-4acb-a252-d0f9c9f6906c 2025-02-27 17:45:54  \n",
       "4  5c133a5f-fa75-407e-af6f-7b10cbf36a8f 2025-03-01 18:51:36  \n",
       "5  72eac43f-efc4-4b6d-afd2-b745af69b95a 2025-03-01 19:19:46  \n",
       "6  72eac43f-efc4-4b6d-afd2-b745af69b95a 2025-03-01 19:19:46  \n",
       "7  bf9370ea-7f6f-4841-8628-b9fca03a667c 2025-03-02 12:26:11  \n",
       "8  375c18e1-6338-461c-a52e-16a1532bc29e 2025-03-02 12:34:16  \n",
       "9  375c18e1-6338-461c-a52e-16a1532bc29e 2025-03-02 12:34:16  "
      ]
     },
     "execution_count": 14,
     "metadata": {},
     "output_type": "execute_result"
    }
   ],
   "source": [
    "pd.DataFrame(mi_tabla)"
   ]
  },
  {
   "cell_type": "code",
   "execution_count": 30,
   "metadata": {},
   "outputs": [],
   "source": [
    "query = \"SELECT * FROM interactions WHERE session_id = '401435ca-a5bf-4356-879a-a79044c877ca'\"\n",
    "cursor.execute(query)\n",
    "filter = cursor.fetchall()"
   ]
  },
  {
   "cell_type": "code",
   "execution_count": 31,
   "metadata": {},
   "outputs": [
    {
     "data": {
      "text/html": [
       "<div>\n",
       "<style scoped>\n",
       "    .dataframe tbody tr th:only-of-type {\n",
       "        vertical-align: middle;\n",
       "    }\n",
       "\n",
       "    .dataframe tbody tr th {\n",
       "        vertical-align: top;\n",
       "    }\n",
       "\n",
       "    .dataframe thead th {\n",
       "        text-align: right;\n",
       "    }\n",
       "</style>\n",
       "<table border=\"1\" class=\"dataframe\">\n",
       "  <thead>\n",
       "    <tr style=\"text-align: right;\">\n",
       "      <th></th>\n",
       "      <th>id</th>\n",
       "      <th>question</th>\n",
       "      <th>response</th>\n",
       "      <th>session_id</th>\n",
       "      <th>timestamp</th>\n",
       "    </tr>\n",
       "  </thead>\n",
       "  <tbody>\n",
       "    <tr>\n",
       "      <th>0</th>\n",
       "      <td>1</td>\n",
       "      <td>Cuantas carreras de F1 hay?</td>\n",
       "      <td>Actualmente, el calendario de la temporada de ...</td>\n",
       "      <td>401435ca-a5bf-4356-879a-a79044c877ca</td>\n",
       "      <td>2025-02-27 17:40:36</td>\n",
       "    </tr>\n",
       "    <tr>\n",
       "      <th>1</th>\n",
       "      <td>2</td>\n",
       "      <td>Que es el DRS?</td>\n",
       "      <td>El DRS (siglas en inglés de \"Drag Reduction Sy...</td>\n",
       "      <td>401435ca-a5bf-4356-879a-a79044c877ca</td>\n",
       "      <td>2025-02-27 17:40:36</td>\n",
       "    </tr>\n",
       "  </tbody>\n",
       "</table>\n",
       "</div>"
      ],
      "text/plain": [
       "   id                     question  \\\n",
       "0   1  Cuantas carreras de F1 hay?   \n",
       "1   2               Que es el DRS?   \n",
       "\n",
       "                                            response  \\\n",
       "0  Actualmente, el calendario de la temporada de ...   \n",
       "1  El DRS (siglas en inglés de \"Drag Reduction Sy...   \n",
       "\n",
       "                             session_id           timestamp  \n",
       "0  401435ca-a5bf-4356-879a-a79044c877ca 2025-02-27 17:40:36  \n",
       "1  401435ca-a5bf-4356-879a-a79044c877ca 2025-02-27 17:40:36  "
      ]
     },
     "execution_count": 31,
     "metadata": {},
     "output_type": "execute_result"
    }
   ],
   "source": [
    "pd.DataFrame(filter)"
   ]
  },
  {
   "cell_type": "code",
   "execution_count": 43,
   "metadata": {},
   "outputs": [],
   "source": [
    "db.commit()"
   ]
  },
  {
   "cell_type": "code",
   "execution_count": 16,
   "metadata": {},
   "outputs": [],
   "source": [
    "cursor.close()"
   ]
  },
  {
   "cell_type": "code",
   "execution_count": 15,
   "metadata": {},
   "outputs": [],
   "source": [
    "db.close()"
   ]
  }
 ],
 "metadata": {
  "kernelspec": {
   "display_name": "Python (tf_env)",
   "language": "python",
   "name": "tf_env"
  },
  "language_info": {
   "codemirror_mode": {
    "name": "ipython",
    "version": 3
   },
   "file_extension": ".py",
   "mimetype": "text/x-python",
   "name": "python",
   "nbconvert_exporter": "python",
   "pygments_lexer": "ipython3",
   "version": "3.12.8"
  }
 },
 "nbformat": 4,
 "nbformat_minor": 2
}
